{
  "nbformat": 4,
  "nbformat_minor": 0,
  "metadata": {
    "kernelspec": {
      "display_name": "Python 3",
      "language": "python",
      "name": "python3"
    },
    "language_info": {
      "codemirror_mode": {
        "name": "ipython",
        "version": 3
      },
      "file_extension": ".py",
      "mimetype": "text/x-python",
      "name": "python",
      "nbconvert_exporter": "python",
      "pygments_lexer": "ipython3",
      "version": "3.6.4"
    },
    "colab": {
      "name": "Sesion1_Dirigida.ipynb",
      "provenance": [],
      "collapsed_sections": [
        "nfj0o6ES0r6e",
        "Mp_EQ_0N0r6h",
        "bKqz7SE30r6k",
        "KXsnHNC84Hau",
        "B5akqMS24N-d",
        "Rl9aC28-4VNd",
        "fKzNlRYCB3Am",
        "EEkZrQvGBtji",
        "HbBPT93IDIIw",
        "vyc-B-guXYK_"
      ]
    }
  },
  "cells": [
    {
      "cell_type": "markdown",
      "metadata": {
        "id": "MXwFDyxM1rQ8",
        "colab_type": "text"
      },
      "source": [
        "# Diplomatura de Especialización en Desarrollo de Aplicaciones con Inteligencia Artificial - Inteligencia Artificial para Juegos (Game AI) - Sesión 1"
      ]
    },
    {
      "cell_type": "markdown",
      "metadata": {
        "id": "flqC59gqBHQ4",
        "colab_type": "text"
      },
      "source": [
        "En el presente notebook se tiene la codificación de un agente aspirador (*VacuumAgent*) así como de un entorno tipo grilla configurable (*room*). Se busca que el agente interactúe con su entorno para limpiarlo."
      ]
    },
    {
      "cell_type": "markdown",
      "metadata": {
        "id": "nfj0o6ES0r6e",
        "colab_type": "text"
      },
      "source": [
        "## Clase <b>Thing</b>\n",
        "\n",
        "  Esta clase generica representa cualquier objeto fisico que puede aparecer en un <b>Ambiente</b>."
      ]
    },
    {
      "cell_type": "code",
      "metadata": {
        "id": "lHW9KWr_0r6e",
        "colab_type": "code",
        "colab": {}
      },
      "source": [
        "class Thing(object):\n",
        "\n",
        "    def is_alive(self):\n",
        "        \"\"\"Cosas 'vivas'deben retornar true.\"\"\"\n",
        "        return hasattr(self, 'alive') and self.alive\n",
        "\n",
        "    def show_state(self):\n",
        "        \"\"\"Muestra el estado interno del agente. Subclases deben sobreescribir esto.\"\"\"\n",
        "        print(\"I don't know how to show_state.\")"
      ],
      "execution_count": 0,
      "outputs": []
    },
    {
      "cell_type": "markdown",
      "metadata": {
        "id": "Mp_EQ_0N0r6h",
        "colab_type": "text"
      },
      "source": [
        "## Clase <b>Agent</b>\n",
        "\n",
        "Un agente es una subclase de Thing con un slot obligatorio: <b>.program</b>, el cual almacena la funcion que implementa el <b>programa del agente</b>. Esta funcion debe tomar como argumento la <b>percepcion</b> del agente y debe retornar una <b>accion</b>. La definicion de Percepcion y Accion depende del ambiente de trabajo (environment) donde el agente existe. El agente tambien puede tener el slot <b>.performance</b>, que mide el desempeño del agente en su ambiente."
      ]
    },
    {
      "cell_type": "code",
      "metadata": {
        "id": "vPFAiVA-0r6i",
        "colab_type": "code",
        "colab": {}
      },
      "source": [
        "import collections\n",
        "\n",
        "class Agent(Thing):\n",
        "\n",
        "    def __init__(self, program=None):\n",
        "        self.alive = True\n",
        "        self.performance = 0\n",
        "        assert isinstance(program, collections.Callable)\n",
        "        self.program = program"
      ],
      "execution_count": 0,
      "outputs": []
    },
    {
      "cell_type": "markdown",
      "metadata": {
        "id": "bKqz7SE30r6k",
        "colab_type": "text"
      },
      "source": [
        "## Clase <b>Environment</b>\n",
        "\n",
        "Esta clase abstracta representa un entorno de tareas. Clases de entornos reales heredan de esta. En un entorno tipicamente se necesitará implementar 2 cosas:\n",
        "<b>percept</b>, que define la percepción que el agente ve; y \n",
        "<b>execute_action</b>, que define los efectos de ejecutar una acción. \n",
        "El entorno mantiene una lista de .things y .agents (el cual es un subconjunto de .things). Cada elemento de .things tiene un slot .location. (No editar)"
      ]
    },
    {
      "cell_type": "code",
      "metadata": {
        "id": "lgqaHh370r6l",
        "colab_type": "code",
        "colab": {}
      },
      "source": [
        "class Environment(object):\n",
        "\n",
        "    def __init__(self):\n",
        "        self.things = []\n",
        "        self.agents = []\n",
        "\n",
        "    def thing_classes(self):\n",
        "        return []  # List of classes that can go into environment\n",
        "\n",
        "    def percept(self, agent):\n",
        "        \"\"\"Retorna la percepcion que el agente 'agent' ve en este punto.\"\"\"\n",
        "        raise NotImplementedError\n",
        "\n",
        "    def execute_action(self, agent, action):\n",
        "        \"\"\"El agente 'agent' ejecuta una accion 'action' en el entorno.\"\"\"\n",
        "        raise NotImplementedError\n",
        "\n",
        "    def default_location(self, thing):\n",
        "        \"\"\"Localización por defecto para colocar una nueva cosa sin localizacion especificada.\"\"\"\n",
        "        return None\n",
        "\n",
        "    def is_done(self):\n",
        "        \"\"\"Retorna True si no hay ningun agente vivo\"\"\"\n",
        "        return not any(agent.is_alive() for agent in self.agents)\n",
        "\n",
        "    def add_thing(self, thing, location=None):\n",
        "        \"\"\"Añade un objeto Thing al entorno en la localizacion location. \n",
        "           Si thing es un programa de agente, crea un nuevo agente con ese programa.\"\"\"\n",
        "        if not isinstance(thing, Thing):\n",
        "            thing = Agent(thing)\n",
        "        assert thing not in self.things, \"No añade la misma cosa dos veces\"\n",
        "        thing.location = location if location is not None else self.default_location(thing)\n",
        "        self.things.append(thing)\n",
        "        if isinstance(thing, Agent):\n",
        "            thing.performance = 0\n",
        "            self.agents.append(thing)\n",
        "    \n",
        "    def delete_thing(self, thing):\n",
        "        \"\"\"Elimina un objeto Thing al entorno en la localizacion location\n",
        "        Si thing es un programa de agente, igual lo remueve.\n",
        "        Remove a thing from the environment.\"\"\"\n",
        "        try:\n",
        "            self.things.remove(thing)\n",
        "        except ValueError as e:\n",
        "            print(e)\n",
        "            print(\"  in Environment delete_thing\")\n",
        "            print(\"  Thing to be removed: {} at {}\".format(thing, thing.location))\n",
        "            print(\"  from list: {}\".format([(thing, thing.location) for thing in self.things]))\n",
        "        if thing in self.agents:\n",
        "            self.agents.remove(thing)\n",
        "\n",
        "    def list_things_at(self, location, tclass=Thing):\n",
        "        \"\"\"Return all things exactly at a given location.\"\"\"\n",
        "        return [thing for thing in self.things\n",
        "                if thing.location == location and isinstance(thing, tclass)]\n",
        "\n",
        "    def step(self):\n",
        "        \"\"\"Ejecuta un paso del entorno (llama a los programas de los agentes, obtiene sus acciones y las ejecuta). \"\"\"\n",
        "        if not self.is_done():\n",
        "            actions = []\n",
        "            for agent in self.agents:\n",
        "                if agent.alive:\n",
        "                    actions.append(agent.program(self.percept(agent)))\n",
        "                else:\n",
        "                    actions.append(\"\")\n",
        "            for (agent, action) in zip(self.agents, actions):\n",
        "                self.execute_action(agent, action)\n",
        "\n",
        "    def run(self, steps=1000):\n",
        "        \"\"\"Ejecuta steps pasos en el entorno.\"\"\"\n",
        "        for step in range(steps):\n",
        "            if self.is_done():\n",
        "                return\n",
        "            self.step()"
      ],
      "execution_count": 0,
      "outputs": []
    },
    {
      "cell_type": "markdown",
      "metadata": {
        "id": "KXsnHNC84Hau",
        "colab_type": "text"
      },
      "source": [
        "## Clase XYEnvironment"
      ]
    },
    {
      "cell_type": "code",
      "metadata": {
        "id": "EkYNdDbp3z1f",
        "colab_type": "code",
        "colab": {}
      },
      "source": [
        "class XYEnvironment(Environment):\n",
        "    \"\"\"This class is for environments on a 2D plane, with locations\n",
        "    labelled by (x, y) points, either discrete or continuous.\n",
        "\n",
        "    Agents perceive things within a radius. Each agent in the\n",
        "    environment has a .location slot which should be a location such\n",
        "    as (0, 1), and a .holding slot, which should be a list of things\n",
        "    that are held.\"\"\"\n",
        "\n",
        "    def __init__(self, width=10, height=10):\n",
        "        super().__init__()\n",
        "\n",
        "        self.width = width\n",
        "        self.height = height\n",
        "        self.observers = []\n",
        "        # Sets iteration start and end (no walls).\n",
        "        self.x_start, self.y_start = (0, 0)\n",
        "        self.x_end, self.y_end = (self.width, self.height)\n",
        "\n",
        "    perceptible_distance = 1\n",
        "\n",
        "    def things_near(self, location, radius=None):\n",
        "        \"\"\"Return all things within radius of location.\"\"\"\n",
        "        if radius is None:\n",
        "            radius = self.perceptible_distance\n",
        "        radius2 = radius * radius\n",
        "        return [(thing, radius2 - distance_squared(location, thing.location))\n",
        "                for thing in self.things if distance_squared(\n",
        "                                                location, thing.location) <= radius2]\n",
        "\n",
        "    def percept(self, agent):\n",
        "        \"\"\"By default, agent perceives things within a default radius.\"\"\"\n",
        "        return self.things_near(agent.location)\n",
        "\n",
        "    def execute_action(self, agent, action):\n",
        "        agent.bump = False\n",
        "        if action == 'TurnRight':\n",
        "            agent.direction += Direction.R\n",
        "        elif action == 'TurnLeft':\n",
        "            agent.direction += Direction.L\n",
        "        elif action == 'Forward':\n",
        "            agent.bump = self.move_to(agent, agent.direction.move_forward(agent.location))\n",
        "#         elif action == 'Grab':\n",
        "#             things = [thing for thing in self.list_things_at(agent.location)\n",
        "#                     if agent.can_grab(thing)]\n",
        "#             if things:\n",
        "#                 agent.holding.append(things[0])\n",
        "        elif action == 'Release':\n",
        "            if agent.holding:\n",
        "                agent.holding.pop()\n",
        "\n",
        "    def default_location(self, thing):\n",
        "        return (random.choice(self.width), random.choice(self.height))\n",
        "\n",
        "    def move_to(self, thing, destination):\n",
        "        \"\"\"Move a thing to a new location. Returns True on success or False if there is an Obstacle.\n",
        "        If thing is holding anything, they move with him.\"\"\"\n",
        "        thing.bump = self.some_things_at(destination, Obstacle)\n",
        "        if not thing.bump:\n",
        "            thing.location = destination\n",
        "            for o in self.observers:\n",
        "                o.thing_moved(thing)\n",
        "            for t in thing.holding:\n",
        "                self.delete_thing(t)\n",
        "                self.add_thing(t, destination)\n",
        "                t.location = destination\n",
        "        return thing.bump\n",
        "\n",
        "    def add_thing(self, thing, location=(1, 1), exclude_duplicate_class_items=False):\n",
        "        \"\"\"Add things to the world. If (exclude_duplicate_class_items) then the item won't be\n",
        "        added if the location has at least one item of the same class.\"\"\"\n",
        "        if (self.is_inbounds(location)):\n",
        "            if (exclude_duplicate_class_items and\n",
        "                    any(isinstance(t, thing.__class__) for t in self.list_things_at(location))):\n",
        "                return\n",
        "            super().add_thing(thing, location)\n",
        "\n",
        "    def is_inbounds(self, location):\n",
        "        \"\"\"Checks to make sure that the location is inbounds (within walls if we have walls)\"\"\"\n",
        "        x, y = location\n",
        "        return not (x < self.x_start or x > self.x_end or y < self.y_start or y > self.y_end)\n",
        "\n",
        "    def random_location_inbounds(self, exclude=None):\n",
        "        \"\"\"Returns a random location that is inbounds (within walls if we have walls)\"\"\"\n",
        "        location = (random.randint(self.x_start, self.x_end),\n",
        "                    random.randint(self.y_start, self.y_end))\n",
        "        if exclude is not None:\n",
        "            while(location == exclude):\n",
        "                location = (random.randint(self.x_start, self.x_end),\n",
        "                            random.randint(self.y_start, self.y_end))\n",
        "        return location\n",
        "\n",
        "    def delete_thing(self, thing):\n",
        "        \"\"\"Deletes thing, and everything it is holding (if thing is an agent)\"\"\"\n",
        "        if isinstance(thing, Agent):\n",
        "            for obj in thing.holding:\n",
        "                super().delete_thing(obj)\n",
        "                for obs in self.observers:\n",
        "                    obs.thing_deleted(obj)\n",
        "\n",
        "        super().delete_thing(thing)\n",
        "        for obs in self.observers:\n",
        "            obs.thing_deleted(thing)\n",
        "\n",
        "    def add_walls(self):\n",
        "        \"\"\"Put walls around the entire perimeter of the grid.\"\"\"\n",
        "        for x in range(self.width):\n",
        "            self.add_thing(Wall(), (x, 0))\n",
        "            self.add_thing(Wall(), (x, self.height - 1))\n",
        "        for y in range(1, self.height-1):\n",
        "            self.add_thing(Wall(), (0, y))\n",
        "            self.add_thing(Wall(), (self.width - 1, y))\n",
        "\n",
        "        # Updates iteration start and end (with walls).\n",
        "        self.x_start, self.y_start = (1, 1)\n",
        "        self.x_end, self.y_end = (self.width - 1, self.height - 1)\n",
        "\n",
        "    def add_observer(self, observer):\n",
        "        \"\"\"Adds an observer to the list of observers.\n",
        "        An observer is typically an EnvGUI.\n",
        "\n",
        "        Each observer is notified of changes in move_to and add_thing,\n",
        "        by calling the observer's methods thing_moved(thing)\n",
        "        and thing_added(thing, loc).\"\"\"\n",
        "        self.observers.append(observer)\n",
        "\n",
        "    def turn_heading(self, heading, inc):\n",
        "        \"\"\"Return the heading to the left (inc=+1) or right (inc=-1) of heading.\"\"\"\n",
        "        return turn_heading(heading, inc)\n",
        "# ______________________________________________________________________________"
      ],
      "execution_count": 0,
      "outputs": []
    },
    {
      "cell_type": "markdown",
      "metadata": {
        "id": "B5akqMS24N-d",
        "colab_type": "text"
      },
      "source": [
        "## Clases Obstacle and Wall"
      ]
    },
    {
      "cell_type": "code",
      "metadata": {
        "id": "wmxRYTtj4RW9",
        "colab_type": "code",
        "colab": {}
      },
      "source": [
        "class Obstacle(Thing):\n",
        "    \"\"\"Something that can cause a bump, preventing an agent from\n",
        "    moving into the same square it's in.\"\"\"\n",
        "    pass\n",
        "\n",
        "class Wall(Obstacle):\n",
        "    pass"
      ],
      "execution_count": 0,
      "outputs": []
    },
    {
      "cell_type": "markdown",
      "metadata": {
        "id": "Rl9aC28-4VNd",
        "colab_type": "text"
      },
      "source": [
        "## Clase GraphicEnvironment"
      ]
    },
    {
      "cell_type": "code",
      "metadata": {
        "id": "oy6Jf1Sb48HQ",
        "colab_type": "code",
        "cellView": "form",
        "outputId": "22452165-261a-4173-afea-d4e78c757d97",
        "colab": {
          "base_uri": "https://localhost:8080/",
          "height": 689
        }
      },
      "source": [
        "#@title Instalacion de `ipythonblocks`\n",
        "!pip install ipythonblocks"
      ],
      "execution_count": 0,
      "outputs": [
        {
          "output_type": "stream",
          "text": [
            "Requirement already satisfied: ipythonblocks in /usr/local/lib/python3.6/dist-packages (1.9.0)\n",
            "Requirement already satisfied: requests>=1.0 in /usr/local/lib/python3.6/dist-packages (from ipythonblocks) (2.21.0)\n",
            "Requirement already satisfied: notebook>=4.0 in /usr/local/lib/python3.6/dist-packages (from ipythonblocks) (5.2.2)\n",
            "Requirement already satisfied: ipython>=4.0 in /usr/local/lib/python3.6/dist-packages (from ipythonblocks) (5.5.0)\n",
            "Requirement already satisfied: chardet<3.1.0,>=3.0.2 in /usr/local/lib/python3.6/dist-packages (from requests>=1.0->ipythonblocks) (3.0.4)\n",
            "Requirement already satisfied: urllib3<1.25,>=1.21.1 in /usr/local/lib/python3.6/dist-packages (from requests>=1.0->ipythonblocks) (1.24.3)\n",
            "Requirement already satisfied: idna<2.9,>=2.5 in /usr/local/lib/python3.6/dist-packages (from requests>=1.0->ipythonblocks) (2.8)\n",
            "Requirement already satisfied: certifi>=2017.4.17 in /usr/local/lib/python3.6/dist-packages (from requests>=1.0->ipythonblocks) (2019.6.16)\n",
            "Requirement already satisfied: traitlets>=4.2.1 in /usr/local/lib/python3.6/dist-packages (from notebook>=4.0->ipythonblocks) (4.3.2)\n",
            "Requirement already satisfied: nbconvert in /usr/local/lib/python3.6/dist-packages (from notebook>=4.0->ipythonblocks) (5.6.0)\n",
            "Requirement already satisfied: ipykernel in /usr/local/lib/python3.6/dist-packages (from notebook>=4.0->ipythonblocks) (4.6.1)\n",
            "Requirement already satisfied: ipython-genutils in /usr/local/lib/python3.6/dist-packages (from notebook>=4.0->ipythonblocks) (0.2.0)\n",
            "Requirement already satisfied: terminado>=0.3.3; sys_platform != \"win32\" in /usr/local/lib/python3.6/dist-packages (from notebook>=4.0->ipythonblocks) (0.8.2)\n",
            "Requirement already satisfied: nbformat in /usr/local/lib/python3.6/dist-packages (from notebook>=4.0->ipythonblocks) (4.4.0)\n",
            "Requirement already satisfied: jinja2 in /usr/local/lib/python3.6/dist-packages (from notebook>=4.0->ipythonblocks) (2.10.1)\n",
            "Requirement already satisfied: jupyter-core in /usr/local/lib/python3.6/dist-packages (from notebook>=4.0->ipythonblocks) (4.5.0)\n",
            "Requirement already satisfied: tornado>=4 in /usr/local/lib/python3.6/dist-packages (from notebook>=4.0->ipythonblocks) (4.5.3)\n",
            "Requirement already satisfied: jupyter-client in /usr/local/lib/python3.6/dist-packages (from notebook>=4.0->ipythonblocks) (5.3.1)\n",
            "Requirement already satisfied: setuptools>=18.5 in /usr/local/lib/python3.6/dist-packages (from ipython>=4.0->ipythonblocks) (41.2.0)\n",
            "Requirement already satisfied: decorator in /usr/local/lib/python3.6/dist-packages (from ipython>=4.0->ipythonblocks) (4.4.0)\n",
            "Requirement already satisfied: pickleshare in /usr/local/lib/python3.6/dist-packages (from ipython>=4.0->ipythonblocks) (0.7.5)\n",
            "Requirement already satisfied: pygments in /usr/local/lib/python3.6/dist-packages (from ipython>=4.0->ipythonblocks) (2.1.3)\n",
            "Requirement already satisfied: pexpect; sys_platform != \"win32\" in /usr/local/lib/python3.6/dist-packages (from ipython>=4.0->ipythonblocks) (4.7.0)\n",
            "Requirement already satisfied: prompt-toolkit<2.0.0,>=1.0.4 in /usr/local/lib/python3.6/dist-packages (from ipython>=4.0->ipythonblocks) (1.0.16)\n",
            "Requirement already satisfied: simplegeneric>0.8 in /usr/local/lib/python3.6/dist-packages (from ipython>=4.0->ipythonblocks) (0.8.1)\n",
            "Requirement already satisfied: six in /usr/local/lib/python3.6/dist-packages (from traitlets>=4.2.1->notebook>=4.0->ipythonblocks) (1.12.0)\n",
            "Requirement already satisfied: bleach in /usr/local/lib/python3.6/dist-packages (from nbconvert->notebook>=4.0->ipythonblocks) (3.1.0)\n",
            "Requirement already satisfied: entrypoints>=0.2.2 in /usr/local/lib/python3.6/dist-packages (from nbconvert->notebook>=4.0->ipythonblocks) (0.3)\n",
            "Requirement already satisfied: pandocfilters>=1.4.1 in /usr/local/lib/python3.6/dist-packages (from nbconvert->notebook>=4.0->ipythonblocks) (1.4.2)\n",
            "Requirement already satisfied: mistune<2,>=0.8.1 in /usr/local/lib/python3.6/dist-packages (from nbconvert->notebook>=4.0->ipythonblocks) (0.8.4)\n",
            "Requirement already satisfied: defusedxml in /usr/local/lib/python3.6/dist-packages (from nbconvert->notebook>=4.0->ipythonblocks) (0.6.0)\n",
            "Requirement already satisfied: testpath in /usr/local/lib/python3.6/dist-packages (from nbconvert->notebook>=4.0->ipythonblocks) (0.4.2)\n",
            "Requirement already satisfied: ptyprocess; os_name != \"nt\" in /usr/local/lib/python3.6/dist-packages (from terminado>=0.3.3; sys_platform != \"win32\"->notebook>=4.0->ipythonblocks) (0.6.0)\n",
            "Requirement already satisfied: jsonschema!=2.5.0,>=2.4 in /usr/local/lib/python3.6/dist-packages (from nbformat->notebook>=4.0->ipythonblocks) (2.6.0)\n",
            "Requirement already satisfied: MarkupSafe>=0.23 in /usr/local/lib/python3.6/dist-packages (from jinja2->notebook>=4.0->ipythonblocks) (1.1.1)\n",
            "Requirement already satisfied: python-dateutil>=2.1 in /usr/local/lib/python3.6/dist-packages (from jupyter-client->notebook>=4.0->ipythonblocks) (2.5.3)\n",
            "Requirement already satisfied: pyzmq>=13 in /usr/local/lib/python3.6/dist-packages (from jupyter-client->notebook>=4.0->ipythonblocks) (17.0.0)\n",
            "Requirement already satisfied: wcwidth in /usr/local/lib/python3.6/dist-packages (from prompt-toolkit<2.0.0,>=1.0.4->ipython>=4.0->ipythonblocks) (0.1.7)\n",
            "Requirement already satisfied: webencodings in /usr/local/lib/python3.6/dist-packages (from bleach->nbconvert->notebook>=4.0->ipythonblocks) (0.5.1)\n"
          ],
          "name": "stdout"
        }
      ]
    },
    {
      "cell_type": "code",
      "metadata": {
        "id": "qPDZqui-4Uln",
        "colab_type": "code",
        "colab": {}
      },
      "source": [
        "from ipythonblocks import BlockGrid\n",
        "from IPython.display import HTML, display\n",
        "from time import sleep\n",
        "class GraphicEnvironment(XYEnvironment):\n",
        "    def __init__(self, width=10, height=10, color={}, boundary=True, display=False):\n",
        "        \"\"\"Define all the usual XYEnvironment characteristics,\n",
        "        but initialise a BlockGrid for GUI too.\"\"\"\n",
        "        super().__init__(width, height)\n",
        "        self.grid = BlockGrid(width, height, fill=(200, 200, 200))\n",
        "        if display:\n",
        "            self.grid.show()\n",
        "            self.visible = True\n",
        "        else:\n",
        "            self.visible = False\n",
        "        self.bounded = boundary\n",
        "        self.colors = color\n",
        "\n",
        "    def get_world(self):\n",
        "        \"\"\"Returns all the items in the world in a format\n",
        "        understandable by the ipythonblocks BlockGrid.\"\"\"\n",
        "        result = []\n",
        "        x_start, y_start = (0, 0)\n",
        "        x_end, y_end = self.width, self.height\n",
        "        for x in range(x_start, x_end):\n",
        "            row = []\n",
        "            for y in range(y_start, y_end):\n",
        "                row.append(self.list_things_at([x, y]))\n",
        "            result.append(row)\n",
        "        return result\n",
        "\n",
        "    \"\"\"\n",
        "    def run(self, steps=1000, delay=1):\n",
        "        \"\" \"Run the Environment for given number of time steps,\n",
        "        but update the GUI too.\" \"\"\n",
        "        for step in range(steps):\n",
        "            sleep(delay)\n",
        "            if self.visible:\n",
        "                self.reveal()\n",
        "            if self.is_done():\n",
        "                if self.visible:\n",
        "                    self.reveal()\n",
        "                return\n",
        "            self.step()\n",
        "        if self.visible:\n",
        "            self.reveal()\n",
        "    \"\"\"\n",
        "\n",
        "    def run(self, steps=10, delay=1):\n",
        "        \"\"\"Run the Environment for given number of time steps,\n",
        "        but update the GUI too.\"\"\"\n",
        "        for step in range(steps):\n",
        "            self.update(delay)\n",
        "            if self.is_done():\n",
        "                break\n",
        "            self.step()\n",
        "        self.update(delay)\n",
        "\n",
        "    def update(self, delay=1):\n",
        "        sleep(delay)\n",
        "        if self.visible:\n",
        "            self.conceal()\n",
        "            self.reveal()\n",
        "        else:\n",
        "            self.reveal()\n",
        "\n",
        "    def reveal(self):\n",
        "        \"\"\"Display the BlockGrid for this world - the last thing to be added\n",
        "        at a location defines the location color.\"\"\"\n",
        "        self.draw_world()\n",
        "        self.grid.show()\n",
        "        self.visible = True\n",
        "\n",
        "    def draw_world(self):\n",
        "        self.grid[:] = (200, 200, 200)\n",
        "        world = self.get_world()\n",
        "        for x in range(0, len(world)):\n",
        "            for y in range(0, len(world[x])):\n",
        "                if len(world[x][y]):\n",
        "                    self.grid[y, x] = self.colors[world[x][y][-1].__class__.__name__]\n",
        "\n",
        "    def conceal(self):\n",
        "        \"\"\"Hide the BlockGrid for this world\"\"\"\n",
        "        self.visible = False\n",
        "        display(HTML(''))"
      ],
      "execution_count": 0,
      "outputs": []
    },
    {
      "cell_type": "markdown",
      "metadata": {
        "id": "_n2NRAvM6zo0",
        "colab_type": "text"
      },
      "source": [
        "## Clase VacuumEnvironment"
      ]
    },
    {
      "cell_type": "code",
      "metadata": {
        "id": "5i2Gg52M3BoA",
        "colab_type": "code",
        "colab": {}
      },
      "source": [
        "loc_A, loc_B, loc_C, loc_D = [0, 0], [1, 0], [0, 1], [1, 1]   # The 4 locations for the Vacuum world 2x2\n",
        "\n",
        "import random\n",
        "class VacuumEnvironment(GraphicEnvironment):\n",
        "    def __init__(self, width, height, color, autoDirt=False, boundary=True, display=False, verbose=False):\n",
        "        super().__init__(width, height, color, boundary, display)\n",
        "        self.autoDirt = autoDirt\n",
        "        self.verbose = verbose\n",
        "\n",
        "    def thing_classes(self):\n",
        "        return [VacuumBot]\n",
        "\n",
        "    def percept(self, agent):\n",
        "        '''return a list of things that are in our agent's location'''\n",
        "        things = self.list_things_at(agent.location)\n",
        "        return things\n",
        "\n",
        "    def execute_action(self, agent, action):\n",
        "        \"\"\"Implementa el MAPA DE TRANSICION: Cambia la posicion del agente y/o el estado de la posicion; \n",
        "        Cada aspiracion (accion 'Suck') en una localizacion Dirt provoca un aumento de desempeño en 10 unidades.\n",
        "        Cada movida efectiva Right, Left, Up o Down provoca una disminución de desempeño en 1 unidad \"\"\"\n",
        "        \n",
        "        if action == 'Right':\n",
        "            if agent.location == loc_A:\n",
        "                agent.location = loc_B\n",
        "                agent.performance -= 1\n",
        "            elif agent.location == loc_C:\n",
        "                agent.location = loc_D\n",
        "                agent.performance -= 1\n",
        "        elif \n",
        "        elif action == 'Suck':\n",
        "          items = self.list_things_at(agent.location, tclass=Dirt)\n",
        "          if len(items) != 0:\n",
        "            if(self.verbose): print(\"Quiero limpiar las sucias \", items, \" en \",agent.location)\n",
        "            for i in items:\n",
        "              if agent.clean(i): #Have the robot clean the first item\n",
        "                print('{} cleaned {} at location: {}'\n",
        "                      .format(str(agent)[1:-1], str(items[0])[1:-1], agent.location))\n",
        "                self.delete_thing(i) #Delete it from the Room after.\n",
        "          agent.performance += 10\n",
        "\n",
        "        #Si es que self.autoDirt está activado, aleatoriamente va a ensuciar las casillas vacias\n",
        "        if(self.autoDirt==True):\n",
        "          world = self.get_world()\n",
        "          for x in range(0, len(world)):\n",
        "            for y in range(0, len(world[x])):\n",
        "              if (  len( self.list_things_at([x, y]) ) == 0  ):\n",
        "                if(self.verbose): print(\"Estoy queriendo ensuciar en:\",x,y)\n",
        "                dirt = Dirt()\n",
        "                numMovil = random.choice(list(range(0,100)))\n",
        "                if (numMovil < 4):#probabilidad de 4% de ensuciar cada casilla\n",
        "                  if(self.verbose): print(\"Si he ensuciado en:\",x,y)\n",
        "                  self.add_thing(dirt, [x, y])\n",
        "\n",
        "    def default_location(self, thing):\n",
        "        \"\"\"Devuelve una posicion aleatoria para la posición inicial de la aspiradora.\"\"\"\n",
        "        return random.choice([loc_A, loc_B, loc_C, loc_D])"
      ],
      "execution_count": 0,
      "outputs": []
    },
    {
      "cell_type": "markdown",
      "metadata": {
        "id": "fKzNlRYCB3Am",
        "colab_type": "text"
      },
      "source": [
        "## Clase Dirt"
      ]
    },
    {
      "cell_type": "code",
      "metadata": {
        "colab_type": "code",
        "id": "WSMK-GzPB2fG",
        "colab": {}
      },
      "source": [
        "class Dirt(Thing):\n",
        "    pass"
      ],
      "execution_count": 0,
      "outputs": []
    },
    {
      "cell_type": "code",
      "metadata": {
        "colab_type": "code",
        "outputId": "053fc935-b8a2-45a6-8018-ff178bb6c5bd",
        "id": "IMLiOgm9B2fM",
        "colab": {
          "base_uri": "https://localhost:8080/",
          "height": 33
        }
      },
      "source": [
        "dirt = Dirt()\n",
        "id(dirt)"
      ],
      "execution_count": 0,
      "outputs": [
        {
          "output_type": "execute_result",
          "data": {
            "text/plain": [
              "140533948775112"
            ]
          },
          "metadata": {
            "tags": []
          },
          "execution_count": 630
        }
      ]
    },
    {
      "cell_type": "code",
      "metadata": {
        "colab_type": "code",
        "outputId": "cee97fe6-b6be-42c3-bdbe-24f740c5e584",
        "id": "YvQruUfxB2fQ",
        "colab": {
          "base_uri": "https://localhost:8080/",
          "height": 33
        }
      },
      "source": [
        "dirt = Dirt()\n",
        "id(dirt)"
      ],
      "execution_count": 0,
      "outputs": [
        {
          "output_type": "execute_result",
          "data": {
            "text/plain": [
              "140533948773488"
            ]
          },
          "metadata": {
            "tags": []
          },
          "execution_count": 642
        }
      ]
    },
    {
      "cell_type": "markdown",
      "metadata": {
        "colab_type": "text",
        "id": "EEkZrQvGBtji"
      },
      "source": [
        "## Clase VacuumBot"
      ]
    },
    {
      "cell_type": "code",
      "metadata": {
        "id": "NCcm5kMlcNKu",
        "colab_type": "code",
        "colab": {}
      },
      "source": [
        "class VacuumBot(Agent):        \n",
        "    def clean(self, thing):\n",
        "        '''Retorna True si es que la limpieza fue satisfactoria y False en otros casos'''\n",
        "        if isinstance(thing, Dirt):\n",
        "            return True\n",
        "        return False"
      ],
      "execution_count": 0,
      "outputs": []
    },
    {
      "cell_type": "markdown",
      "metadata": {
        "id": "YPuldNzgBvzO",
        "colab_type": "text"
      },
      "source": [
        "## Definición de programas de agentes"
      ]
    },
    {
      "cell_type": "code",
      "metadata": {
        "id": "XN7xyuYK8TLu",
        "colab_type": "code",
        "colab": {}
      },
      "source": [
        "def program(percepts):\n",
        "  #Si alguna de mis percepciones es un Dirt, debo limpiar\n",
        "  #Puede que mi primera percepción no sea un Dirt!\n",
        "\n",
        "\n",
        "  #si no está sucio, entonces allí está el agente. Reflexivamente, le asigno una accion para cada posicion\n",
        "  "
      ],
      "execution_count": 0,
      "outputs": []
    },
    {
      "cell_type": "code",
      "metadata": {
        "id": "ep-j3clZ-A1k",
        "colab_type": "code",
        "colab": {}
      },
      "source": [
        "class Dirt(Thing):\n",
        "    pass"
      ],
      "execution_count": 0,
      "outputs": []
    },
    {
      "cell_type": "code",
      "metadata": {
        "id": "hJCUjAjEojcf",
        "colab_type": "code",
        "outputId": "053fc935-b8a2-45a6-8018-ff178bb6c5bd",
        "colab": {
          "base_uri": "https://localhost:8080/",
          "height": 33
        }
      },
      "source": [
        "dirt = Dirt()\n",
        "id(dirt)"
      ],
      "execution_count": 0,
      "outputs": [
        {
          "output_type": "execute_result",
          "data": {
            "text/plain": [
              "140533948775112"
            ]
          },
          "metadata": {
            "tags": []
          },
          "execution_count": 630
        }
      ]
    },
    {
      "cell_type": "code",
      "metadata": {
        "id": "fNiquXzzojm9",
        "colab_type": "code",
        "outputId": "cee97fe6-b6be-42c3-bdbe-24f740c5e584",
        "colab": {
          "base_uri": "https://localhost:8080/",
          "height": 33
        }
      },
      "source": [
        "dirt = Dirt()\n",
        "id(dirt)"
      ],
      "execution_count": 0,
      "outputs": [
        {
          "output_type": "execute_result",
          "data": {
            "text/plain": [
              "140533948773488"
            ]
          },
          "metadata": {
            "tags": []
          },
          "execution_count": 642
        }
      ]
    },
    {
      "cell_type": "markdown",
      "metadata": {
        "id": "HbBPT93IDIIw",
        "colab_type": "text"
      },
      "source": [
        "## Creamos y probamos el entorno"
      ]
    },
    {
      "cell_type": "code",
      "metadata": {
        "id": "7z_sndF_7uUh",
        "colab_type": "code",
        "colab": {}
      },
      "source": [
        "room = VacuumEnvironment(3,2, color={'VacuumBot': (200,0,0), 'Dirt': (133, 122, 111)}, autoDirt=True, verbose=False) # room width is set to 2, and height to 2\n",
        "vacuumBot = VacuumBot(program)\n",
        "dirt = Dirt()\n",
        "moredirt = Dirt()\n",
        "room.add_thing(dirt, loc_A)\n",
        "room.add_thing(moredirt, loc_C)"
      ],
      "execution_count": 0,
      "outputs": []
    },
    {
      "cell_type": "code",
      "metadata": {
        "id": "kQzUnbjgnH0J",
        "colab_type": "code",
        "outputId": "7817d31d-6ed0-4f0a-e66a-3fd9f522fe58",
        "colab": {
          "base_uri": "https://localhost:8080/",
          "height": 67
        }
      },
      "source": [
        "room.get_world()"
      ],
      "execution_count": 0,
      "outputs": [
        {
          "output_type": "execute_result",
          "data": {
            "text/plain": [
              "[[[<__main__.Dirt at 0x7fd09c1334e0>], [<__main__.Dirt at 0x7fd09c133dd8>]],\n",
              " [[], []],\n",
              " [[], []]]"
            ]
          },
          "metadata": {
            "tags": []
          },
          "execution_count": 644
        }
      ]
    },
    {
      "cell_type": "code",
      "metadata": {
        "id": "1Rrc3U9ZI9vL",
        "colab_type": "code",
        "colab": {}
      },
      "source": [
        "room.add_thing(vacuumBot, location=loc_C)"
      ],
      "execution_count": 0,
      "outputs": []
    },
    {
      "cell_type": "code",
      "metadata": {
        "id": "UClXb-9-Imd_",
        "colab_type": "code",
        "colab": {}
      },
      "source": [
        "vacuumBot2 = VacuumBot(program)"
      ],
      "execution_count": 0,
      "outputs": []
    },
    {
      "cell_type": "code",
      "metadata": {
        "id": "oa0-BBwJIpUl",
        "colab_type": "code",
        "colab": {}
      },
      "source": [
        "room.add_thing(vacuumBot2, location=loc_B)"
      ],
      "execution_count": 0,
      "outputs": []
    },
    {
      "cell_type": "code",
      "metadata": {
        "id": "6lk3aEgBCgzZ",
        "colab_type": "code",
        "outputId": "4de250fa-c824-4e6e-f293-3cef43dae705",
        "colab": {
          "base_uri": "https://localhost:8080/",
          "height": 84
        }
      },
      "source": [
        "room.get_world()"
      ],
      "execution_count": 0,
      "outputs": [
        {
          "output_type": "execute_result",
          "data": {
            "text/plain": [
              "[[[<__main__.Dirt at 0x7fd09c1334e0>],\n",
              "  [<__main__.Dirt at 0x7fd09c133dd8>, <__main__.VacuumBot at 0x7fd09c133358>]],\n",
              " [[<__main__.VacuumBot at 0x7fd09c1877f0>], []],\n",
              " [[], []]]"
            ]
          },
          "metadata": {
            "tags": []
          },
          "execution_count": 648
        }
      ]
    },
    {
      "cell_type": "code",
      "metadata": {
        "id": "jkVeFbpv69ds",
        "colab_type": "code",
        "colab": {}
      },
      "source": [
        "room.autoDirt=True"
      ],
      "execution_count": 0,
      "outputs": []
    },
    {
      "cell_type": "code",
      "metadata": {
        "id": "40O5vyJOAkG0",
        "colab_type": "code",
        "outputId": "385ca28b-84ab-416b-e869-f6a049660759",
        "colab": {
          "base_uri": "https://localhost:8080/",
          "height": 1000
        }
      },
      "source": [
        "room.run(20)"
      ],
      "execution_count": 0,
      "outputs": [
        {
          "output_type": "display_data",
          "data": {
            "text/html": [
              "<style type=\"text/css\">table.blockgrid {border: none;} .blockgrid tr {border: none;} .blockgrid td {padding: 0px;} #blocks03604940-d6be-4112-96f1-9f896ceb2c37 td {border: 1px solid white;}</style><table id=\"blocks03604940-d6be-4112-96f1-9f896ceb2c37\" class=\"blockgrid\"><tbody><tr><td title=\"Index: [0, 0]&#10;Color: (133, 122, 111)\" style=\"width: 20px; height: 20px;background-color: rgb(133, 122, 111);\"></td><td title=\"Index: [0, 1]&#10;Color: (200, 0, 0)\" style=\"width: 20px; height: 20px;background-color: rgb(200, 0, 0);\"></td><td title=\"Index: [0, 2]&#10;Color: (200, 200, 200)\" style=\"width: 20px; height: 20px;background-color: rgb(200, 200, 200);\"></td></tr><tr><td title=\"Index: [1, 0]&#10;Color: (200, 0, 0)\" style=\"width: 20px; height: 20px;background-color: rgb(200, 0, 0);\"></td><td title=\"Index: [1, 1]&#10;Color: (200, 200, 200)\" style=\"width: 20px; height: 20px;background-color: rgb(200, 200, 200);\"></td><td title=\"Index: [1, 2]&#10;Color: (200, 200, 200)\" style=\"width: 20px; height: 20px;background-color: rgb(200, 200, 200);\"></td></tr></tbody></table>"
            ],
            "text/plain": [
              "<IPython.core.display.HTML object>"
            ]
          },
          "metadata": {
            "tags": []
          }
        },
        {
          "output_type": "stream",
          "text": [
            "__main__.VacuumBot object at 0x7fd09c133358 cleaned __main__.Dirt object at 0x7fd09c133dd8 at location: [0, 1]\n"
          ],
          "name": "stdout"
        },
        {
          "output_type": "display_data",
          "data": {
            "text/html": [
              ""
            ],
            "text/plain": [
              "<IPython.core.display.HTML object>"
            ]
          },
          "metadata": {
            "tags": []
          }
        },
        {
          "output_type": "display_data",
          "data": {
            "text/html": [
              "<style type=\"text/css\">table.blockgrid {border: none;} .blockgrid tr {border: none;} .blockgrid td {padding: 0px;} #blocks3dc7f16d-d4aa-459d-a6ee-2c92aeeeb395 td {border: 1px solid white;}</style><table id=\"blocks3dc7f16d-d4aa-459d-a6ee-2c92aeeeb395\" class=\"blockgrid\"><tbody><tr><td title=\"Index: [0, 0]&#10;Color: (133, 122, 111)\" style=\"width: 20px; height: 20px;background-color: rgb(133, 122, 111);\"></td><td title=\"Index: [0, 1]&#10;Color: (200, 200, 200)\" style=\"width: 20px; height: 20px;background-color: rgb(200, 200, 200);\"></td><td title=\"Index: [0, 2]&#10;Color: (200, 200, 200)\" style=\"width: 20px; height: 20px;background-color: rgb(200, 200, 200);\"></td></tr><tr><td title=\"Index: [1, 0]&#10;Color: (200, 0, 0)\" style=\"width: 20px; height: 20px;background-color: rgb(200, 0, 0);\"></td><td title=\"Index: [1, 1]&#10;Color: (200, 0, 0)\" style=\"width: 20px; height: 20px;background-color: rgb(200, 0, 0);\"></td><td title=\"Index: [1, 2]&#10;Color: (200, 200, 200)\" style=\"width: 20px; height: 20px;background-color: rgb(200, 200, 200);\"></td></tr></tbody></table>"
            ],
            "text/plain": [
              "<IPython.core.display.HTML object>"
            ]
          },
          "metadata": {
            "tags": []
          }
        },
        {
          "output_type": "display_data",
          "data": {
            "text/html": [
              ""
            ],
            "text/plain": [
              "<IPython.core.display.HTML object>"
            ]
          },
          "metadata": {
            "tags": []
          }
        },
        {
          "output_type": "display_data",
          "data": {
            "text/html": [
              "<style type=\"text/css\">table.blockgrid {border: none;} .blockgrid tr {border: none;} .blockgrid td {padding: 0px;} #blocksbd7d5fae-3376-4b1f-848a-8581af433d42 td {border: 1px solid white;}</style><table id=\"blocksbd7d5fae-3376-4b1f-848a-8581af433d42\" class=\"blockgrid\"><tbody><tr><td title=\"Index: [0, 0]&#10;Color: (200, 0, 0)\" style=\"width: 20px; height: 20px;background-color: rgb(200, 0, 0);\"></td><td title=\"Index: [0, 1]&#10;Color: (200, 200, 200)\" style=\"width: 20px; height: 20px;background-color: rgb(200, 200, 200);\"></td><td title=\"Index: [0, 2]&#10;Color: (133, 122, 111)\" style=\"width: 20px; height: 20px;background-color: rgb(133, 122, 111);\"></td></tr><tr><td title=\"Index: [1, 0]&#10;Color: (200, 0, 0)\" style=\"width: 20px; height: 20px;background-color: rgb(200, 0, 0);\"></td><td title=\"Index: [1, 1]&#10;Color: (200, 200, 200)\" style=\"width: 20px; height: 20px;background-color: rgb(200, 200, 200);\"></td><td title=\"Index: [1, 2]&#10;Color: (200, 200, 200)\" style=\"width: 20px; height: 20px;background-color: rgb(200, 200, 200);\"></td></tr></tbody></table>"
            ],
            "text/plain": [
              "<IPython.core.display.HTML object>"
            ]
          },
          "metadata": {
            "tags": []
          }
        },
        {
          "output_type": "stream",
          "text": [
            "__main__.VacuumBot object at 0x7fd09c133358 cleaned __main__.Dirt object at 0x7fd09c1334e0 at location: [0, 0]\n"
          ],
          "name": "stdout"
        },
        {
          "output_type": "display_data",
          "data": {
            "text/html": [
              ""
            ],
            "text/plain": [
              "<IPython.core.display.HTML object>"
            ]
          },
          "metadata": {
            "tags": []
          }
        },
        {
          "output_type": "display_data",
          "data": {
            "text/html": [
              "<style type=\"text/css\">table.blockgrid {border: none;} .blockgrid tr {border: none;} .blockgrid td {padding: 0px;} #blocksdb554400-42dc-4729-b836-c5a5d961d2c3 td {border: 1px solid white;}</style><table id=\"blocksdb554400-42dc-4729-b836-c5a5d961d2c3\" class=\"blockgrid\"><tbody><tr><td title=\"Index: [0, 0]&#10;Color: (200, 0, 0)\" style=\"width: 20px; height: 20px;background-color: rgb(200, 0, 0);\"></td><td title=\"Index: [0, 1]&#10;Color: (200, 200, 200)\" style=\"width: 20px; height: 20px;background-color: rgb(200, 200, 200);\"></td><td title=\"Index: [0, 2]&#10;Color: (133, 122, 111)\" style=\"width: 20px; height: 20px;background-color: rgb(133, 122, 111);\"></td></tr><tr><td title=\"Index: [1, 0]&#10;Color: (200, 200, 200)\" style=\"width: 20px; height: 20px;background-color: rgb(200, 200, 200);\"></td><td title=\"Index: [1, 1]&#10;Color: (200, 200, 200)\" style=\"width: 20px; height: 20px;background-color: rgb(200, 200, 200);\"></td><td title=\"Index: [1, 2]&#10;Color: (133, 122, 111)\" style=\"width: 20px; height: 20px;background-color: rgb(133, 122, 111);\"></td></tr></tbody></table>"
            ],
            "text/plain": [
              "<IPython.core.display.HTML object>"
            ]
          },
          "metadata": {
            "tags": []
          }
        },
        {
          "output_type": "display_data",
          "data": {
            "text/html": [
              ""
            ],
            "text/plain": [
              "<IPython.core.display.HTML object>"
            ]
          },
          "metadata": {
            "tags": []
          }
        },
        {
          "output_type": "display_data",
          "data": {
            "text/html": [
              "<style type=\"text/css\">table.blockgrid {border: none;} .blockgrid tr {border: none;} .blockgrid td {padding: 0px;} #blocks00c83349-7feb-45a7-915d-2281e2ea7a79 td {border: 1px solid white;}</style><table id=\"blocks00c83349-7feb-45a7-915d-2281e2ea7a79\" class=\"blockgrid\"><tbody><tr><td title=\"Index: [0, 0]&#10;Color: (200, 200, 200)\" style=\"width: 20px; height: 20px;background-color: rgb(200, 200, 200);\"></td><td title=\"Index: [0, 1]&#10;Color: (200, 0, 0)\" style=\"width: 20px; height: 20px;background-color: rgb(200, 0, 0);\"></td><td title=\"Index: [0, 2]&#10;Color: (133, 122, 111)\" style=\"width: 20px; height: 20px;background-color: rgb(133, 122, 111);\"></td></tr><tr><td title=\"Index: [1, 0]&#10;Color: (200, 200, 200)\" style=\"width: 20px; height: 20px;background-color: rgb(200, 200, 200);\"></td><td title=\"Index: [1, 1]&#10;Color: (200, 200, 200)\" style=\"width: 20px; height: 20px;background-color: rgb(200, 200, 200);\"></td><td title=\"Index: [1, 2]&#10;Color: (133, 122, 111)\" style=\"width: 20px; height: 20px;background-color: rgb(133, 122, 111);\"></td></tr></tbody></table>"
            ],
            "text/plain": [
              "<IPython.core.display.HTML object>"
            ]
          },
          "metadata": {
            "tags": []
          }
        },
        {
          "output_type": "display_data",
          "data": {
            "text/html": [
              ""
            ],
            "text/plain": [
              "<IPython.core.display.HTML object>"
            ]
          },
          "metadata": {
            "tags": []
          }
        },
        {
          "output_type": "display_data",
          "data": {
            "text/html": [
              "<style type=\"text/css\">table.blockgrid {border: none;} .blockgrid tr {border: none;} .blockgrid td {padding: 0px;} #blocks61496d91-e081-4a8f-8ddd-c40dab7590c2 td {border: 1px solid white;}</style><table id=\"blocks61496d91-e081-4a8f-8ddd-c40dab7590c2\" class=\"blockgrid\"><tbody><tr><td title=\"Index: [0, 0]&#10;Color: (200, 200, 200)\" style=\"width: 20px; height: 20px;background-color: rgb(200, 200, 200);\"></td><td title=\"Index: [0, 1]&#10;Color: (200, 200, 200)\" style=\"width: 20px; height: 20px;background-color: rgb(200, 200, 200);\"></td><td title=\"Index: [0, 2]&#10;Color: (133, 122, 111)\" style=\"width: 20px; height: 20px;background-color: rgb(133, 122, 111);\"></td></tr><tr><td title=\"Index: [1, 0]&#10;Color: (133, 122, 111)\" style=\"width: 20px; height: 20px;background-color: rgb(133, 122, 111);\"></td><td title=\"Index: [1, 1]&#10;Color: (200, 0, 0)\" style=\"width: 20px; height: 20px;background-color: rgb(200, 0, 0);\"></td><td title=\"Index: [1, 2]&#10;Color: (133, 122, 111)\" style=\"width: 20px; height: 20px;background-color: rgb(133, 122, 111);\"></td></tr></tbody></table>"
            ],
            "text/plain": [
              "<IPython.core.display.HTML object>"
            ]
          },
          "metadata": {
            "tags": []
          }
        },
        {
          "output_type": "display_data",
          "data": {
            "text/html": [
              ""
            ],
            "text/plain": [
              "<IPython.core.display.HTML object>"
            ]
          },
          "metadata": {
            "tags": []
          }
        },
        {
          "output_type": "display_data",
          "data": {
            "text/html": [
              "<style type=\"text/css\">table.blockgrid {border: none;} .blockgrid tr {border: none;} .blockgrid td {padding: 0px;} #blocks6f9c57fd-a712-40cb-9c01-bfc0b997b863 td {border: 1px solid white;}</style><table id=\"blocks6f9c57fd-a712-40cb-9c01-bfc0b997b863\" class=\"blockgrid\"><tbody><tr><td title=\"Index: [0, 0]&#10;Color: (133, 122, 111)\" style=\"width: 20px; height: 20px;background-color: rgb(133, 122, 111);\"></td><td title=\"Index: [0, 1]&#10;Color: (200, 200, 200)\" style=\"width: 20px; height: 20px;background-color: rgb(200, 200, 200);\"></td><td title=\"Index: [0, 2]&#10;Color: (133, 122, 111)\" style=\"width: 20px; height: 20px;background-color: rgb(133, 122, 111);\"></td></tr><tr><td title=\"Index: [1, 0]&#10;Color: (133, 122, 111)\" style=\"width: 20px; height: 20px;background-color: rgb(133, 122, 111);\"></td><td title=\"Index: [1, 1]&#10;Color: (200, 200, 200)\" style=\"width: 20px; height: 20px;background-color: rgb(200, 200, 200);\"></td><td title=\"Index: [1, 2]&#10;Color: (133, 122, 111)\" style=\"width: 20px; height: 20px;background-color: rgb(133, 122, 111);\"></td></tr></tbody></table>"
            ],
            "text/plain": [
              "<IPython.core.display.HTML object>"
            ]
          },
          "metadata": {
            "tags": []
          }
        },
        {
          "output_type": "stream",
          "text": [
            "__main__.VacuumBot object at 0x7fd09c133358 cleaned __main__.Dirt object at 0x7fd09c187b00 at location: [0, 1]\n"
          ],
          "name": "stdout"
        },
        {
          "output_type": "display_data",
          "data": {
            "text/html": [
              ""
            ],
            "text/plain": [
              "<IPython.core.display.HTML object>"
            ]
          },
          "metadata": {
            "tags": []
          }
        },
        {
          "output_type": "display_data",
          "data": {
            "text/html": [
              "<style type=\"text/css\">table.blockgrid {border: none;} .blockgrid tr {border: none;} .blockgrid td {padding: 0px;} #blocks35fadc1e-fcd5-46e8-bce1-9c63e8dbd5bc td {border: 1px solid white;}</style><table id=\"blocks35fadc1e-fcd5-46e8-bce1-9c63e8dbd5bc\" class=\"blockgrid\"><tbody><tr><td title=\"Index: [0, 0]&#10;Color: (133, 122, 111)\" style=\"width: 20px; height: 20px;background-color: rgb(133, 122, 111);\"></td><td title=\"Index: [0, 1]&#10;Color: (200, 200, 200)\" style=\"width: 20px; height: 20px;background-color: rgb(200, 200, 200);\"></td><td title=\"Index: [0, 2]&#10;Color: (133, 122, 111)\" style=\"width: 20px; height: 20px;background-color: rgb(133, 122, 111);\"></td></tr><tr><td title=\"Index: [1, 0]&#10;Color: (200, 0, 0)\" style=\"width: 20px; height: 20px;background-color: rgb(200, 0, 0);\"></td><td title=\"Index: [1, 1]&#10;Color: (200, 200, 200)\" style=\"width: 20px; height: 20px;background-color: rgb(200, 200, 200);\"></td><td title=\"Index: [1, 2]&#10;Color: (133, 122, 111)\" style=\"width: 20px; height: 20px;background-color: rgb(133, 122, 111);\"></td></tr></tbody></table>"
            ],
            "text/plain": [
              "<IPython.core.display.HTML object>"
            ]
          },
          "metadata": {
            "tags": []
          }
        },
        {
          "output_type": "display_data",
          "data": {
            "text/html": [
              ""
            ],
            "text/plain": [
              "<IPython.core.display.HTML object>"
            ]
          },
          "metadata": {
            "tags": []
          }
        },
        {
          "output_type": "display_data",
          "data": {
            "text/html": [
              "<style type=\"text/css\">table.blockgrid {border: none;} .blockgrid tr {border: none;} .blockgrid td {padding: 0px;} #blockse140ad38-2722-475b-a9d9-4a411ab8d965 td {border: 1px solid white;}</style><table id=\"blockse140ad38-2722-475b-a9d9-4a411ab8d965\" class=\"blockgrid\"><tbody><tr><td title=\"Index: [0, 0]&#10;Color: (133, 122, 111)\" style=\"width: 20px; height: 20px;background-color: rgb(133, 122, 111);\"></td><td title=\"Index: [0, 1]&#10;Color: (200, 200, 200)\" style=\"width: 20px; height: 20px;background-color: rgb(200, 200, 200);\"></td><td title=\"Index: [0, 2]&#10;Color: (133, 122, 111)\" style=\"width: 20px; height: 20px;background-color: rgb(133, 122, 111);\"></td></tr><tr><td title=\"Index: [1, 0]&#10;Color: (200, 200, 200)\" style=\"width: 20px; height: 20px;background-color: rgb(200, 200, 200);\"></td><td title=\"Index: [1, 1]&#10;Color: (200, 200, 200)\" style=\"width: 20px; height: 20px;background-color: rgb(200, 200, 200);\"></td><td title=\"Index: [1, 2]&#10;Color: (133, 122, 111)\" style=\"width: 20px; height: 20px;background-color: rgb(133, 122, 111);\"></td></tr></tbody></table>"
            ],
            "text/plain": [
              "<IPython.core.display.HTML object>"
            ]
          },
          "metadata": {
            "tags": []
          }
        },
        {
          "output_type": "stream",
          "text": [
            "__main__.VacuumBot object at 0x7fd09c133358 cleaned __main__.Dirt object at 0x7fd09c187ac8 at location: [0, 0]\n"
          ],
          "name": "stdout"
        },
        {
          "output_type": "display_data",
          "data": {
            "text/html": [
              ""
            ],
            "text/plain": [
              "<IPython.core.display.HTML object>"
            ]
          },
          "metadata": {
            "tags": []
          }
        },
        {
          "output_type": "display_data",
          "data": {
            "text/html": [
              "<style type=\"text/css\">table.blockgrid {border: none;} .blockgrid tr {border: none;} .blockgrid td {padding: 0px;} #blocks3b3d2bde-e43e-4df6-b03b-d23ae056f7d8 td {border: 1px solid white;}</style><table id=\"blocks3b3d2bde-e43e-4df6-b03b-d23ae056f7d8\" class=\"blockgrid\"><tbody><tr><td title=\"Index: [0, 0]&#10;Color: (200, 0, 0)\" style=\"width: 20px; height: 20px;background-color: rgb(200, 0, 0);\"></td><td title=\"Index: [0, 1]&#10;Color: (200, 200, 200)\" style=\"width: 20px; height: 20px;background-color: rgb(200, 200, 200);\"></td><td title=\"Index: [0, 2]&#10;Color: (133, 122, 111)\" style=\"width: 20px; height: 20px;background-color: rgb(133, 122, 111);\"></td></tr><tr><td title=\"Index: [1, 0]&#10;Color: (200, 200, 200)\" style=\"width: 20px; height: 20px;background-color: rgb(200, 200, 200);\"></td><td title=\"Index: [1, 1]&#10;Color: (200, 200, 200)\" style=\"width: 20px; height: 20px;background-color: rgb(200, 200, 200);\"></td><td title=\"Index: [1, 2]&#10;Color: (133, 122, 111)\" style=\"width: 20px; height: 20px;background-color: rgb(133, 122, 111);\"></td></tr></tbody></table>"
            ],
            "text/plain": [
              "<IPython.core.display.HTML object>"
            ]
          },
          "metadata": {
            "tags": []
          }
        },
        {
          "output_type": "display_data",
          "data": {
            "text/html": [
              ""
            ],
            "text/plain": [
              "<IPython.core.display.HTML object>"
            ]
          },
          "metadata": {
            "tags": []
          }
        },
        {
          "output_type": "display_data",
          "data": {
            "text/html": [
              "<style type=\"text/css\">table.blockgrid {border: none;} .blockgrid tr {border: none;} .blockgrid td {padding: 0px;} #blocks62e39bbb-a8c7-413a-aecf-a318d3e58933 td {border: 1px solid white;}</style><table id=\"blocks62e39bbb-a8c7-413a-aecf-a318d3e58933\" class=\"blockgrid\"><tbody><tr><td title=\"Index: [0, 0]&#10;Color: (200, 200, 200)\" style=\"width: 20px; height: 20px;background-color: rgb(200, 200, 200);\"></td><td title=\"Index: [0, 1]&#10;Color: (200, 0, 0)\" style=\"width: 20px; height: 20px;background-color: rgb(200, 0, 0);\"></td><td title=\"Index: [0, 2]&#10;Color: (133, 122, 111)\" style=\"width: 20px; height: 20px;background-color: rgb(133, 122, 111);\"></td></tr><tr><td title=\"Index: [1, 0]&#10;Color: (200, 200, 200)\" style=\"width: 20px; height: 20px;background-color: rgb(200, 200, 200);\"></td><td title=\"Index: [1, 1]&#10;Color: (200, 200, 200)\" style=\"width: 20px; height: 20px;background-color: rgb(200, 200, 200);\"></td><td title=\"Index: [1, 2]&#10;Color: (133, 122, 111)\" style=\"width: 20px; height: 20px;background-color: rgb(133, 122, 111);\"></td></tr></tbody></table>"
            ],
            "text/plain": [
              "<IPython.core.display.HTML object>"
            ]
          },
          "metadata": {
            "tags": []
          }
        },
        {
          "output_type": "display_data",
          "data": {
            "text/html": [
              ""
            ],
            "text/plain": [
              "<IPython.core.display.HTML object>"
            ]
          },
          "metadata": {
            "tags": []
          }
        },
        {
          "output_type": "display_data",
          "data": {
            "text/html": [
              "<style type=\"text/css\">table.blockgrid {border: none;} .blockgrid tr {border: none;} .blockgrid td {padding: 0px;} #blocksc378c80a-d284-4126-9c01-3f7acab612c0 td {border: 1px solid white;}</style><table id=\"blocksc378c80a-d284-4126-9c01-3f7acab612c0\" class=\"blockgrid\"><tbody><tr><td title=\"Index: [0, 0]&#10;Color: (200, 200, 200)\" style=\"width: 20px; height: 20px;background-color: rgb(200, 200, 200);\"></td><td title=\"Index: [0, 1]&#10;Color: (133, 122, 111)\" style=\"width: 20px; height: 20px;background-color: rgb(133, 122, 111);\"></td><td title=\"Index: [0, 2]&#10;Color: (133, 122, 111)\" style=\"width: 20px; height: 20px;background-color: rgb(133, 122, 111);\"></td></tr><tr><td title=\"Index: [1, 0]&#10;Color: (200, 200, 200)\" style=\"width: 20px; height: 20px;background-color: rgb(200, 200, 200);\"></td><td title=\"Index: [1, 1]&#10;Color: (200, 0, 0)\" style=\"width: 20px; height: 20px;background-color: rgb(200, 0, 0);\"></td><td title=\"Index: [1, 2]&#10;Color: (133, 122, 111)\" style=\"width: 20px; height: 20px;background-color: rgb(133, 122, 111);\"></td></tr></tbody></table>"
            ],
            "text/plain": [
              "<IPython.core.display.HTML object>"
            ]
          },
          "metadata": {
            "tags": []
          }
        },
        {
          "output_type": "display_data",
          "data": {
            "text/html": [
              ""
            ],
            "text/plain": [
              "<IPython.core.display.HTML object>"
            ]
          },
          "metadata": {
            "tags": []
          }
        },
        {
          "output_type": "display_data",
          "data": {
            "text/html": [
              "<style type=\"text/css\">table.blockgrid {border: none;} .blockgrid tr {border: none;} .blockgrid td {padding: 0px;} #blocks3b3a36f9-a9ae-4b4c-b596-a51a7a6c29c5 td {border: 1px solid white;}</style><table id=\"blocks3b3a36f9-a9ae-4b4c-b596-a51a7a6c29c5\" class=\"blockgrid\"><tbody><tr><td title=\"Index: [0, 0]&#10;Color: (133, 122, 111)\" style=\"width: 20px; height: 20px;background-color: rgb(133, 122, 111);\"></td><td title=\"Index: [0, 1]&#10;Color: (133, 122, 111)\" style=\"width: 20px; height: 20px;background-color: rgb(133, 122, 111);\"></td><td title=\"Index: [0, 2]&#10;Color: (133, 122, 111)\" style=\"width: 20px; height: 20px;background-color: rgb(133, 122, 111);\"></td></tr><tr><td title=\"Index: [1, 0]&#10;Color: (200, 0, 0)\" style=\"width: 20px; height: 20px;background-color: rgb(200, 0, 0);\"></td><td title=\"Index: [1, 1]&#10;Color: (200, 200, 200)\" style=\"width: 20px; height: 20px;background-color: rgb(200, 200, 200);\"></td><td title=\"Index: [1, 2]&#10;Color: (133, 122, 111)\" style=\"width: 20px; height: 20px;background-color: rgb(133, 122, 111);\"></td></tr></tbody></table>"
            ],
            "text/plain": [
              "<IPython.core.display.HTML object>"
            ]
          },
          "metadata": {
            "tags": []
          }
        },
        {
          "output_type": "display_data",
          "data": {
            "text/html": [
              ""
            ],
            "text/plain": [
              "<IPython.core.display.HTML object>"
            ]
          },
          "metadata": {
            "tags": []
          }
        },
        {
          "output_type": "display_data",
          "data": {
            "text/html": [
              "<style type=\"text/css\">table.blockgrid {border: none;} .blockgrid tr {border: none;} .blockgrid td {padding: 0px;} #blocks850cf9e9-66ab-42d5-9a03-47acbeb5ce30 td {border: 1px solid white;}</style><table id=\"blocks850cf9e9-66ab-42d5-9a03-47acbeb5ce30\" class=\"blockgrid\"><tbody><tr><td title=\"Index: [0, 0]&#10;Color: (133, 122, 111)\" style=\"width: 20px; height: 20px;background-color: rgb(133, 122, 111);\"></td><td title=\"Index: [0, 1]&#10;Color: (133, 122, 111)\" style=\"width: 20px; height: 20px;background-color: rgb(133, 122, 111);\"></td><td title=\"Index: [0, 2]&#10;Color: (133, 122, 111)\" style=\"width: 20px; height: 20px;background-color: rgb(133, 122, 111);\"></td></tr><tr><td title=\"Index: [1, 0]&#10;Color: (200, 200, 200)\" style=\"width: 20px; height: 20px;background-color: rgb(200, 200, 200);\"></td><td title=\"Index: [1, 1]&#10;Color: (200, 200, 200)\" style=\"width: 20px; height: 20px;background-color: rgb(200, 200, 200);\"></td><td title=\"Index: [1, 2]&#10;Color: (133, 122, 111)\" style=\"width: 20px; height: 20px;background-color: rgb(133, 122, 111);\"></td></tr></tbody></table>"
            ],
            "text/plain": [
              "<IPython.core.display.HTML object>"
            ]
          },
          "metadata": {
            "tags": []
          }
        },
        {
          "output_type": "stream",
          "text": [
            "__main__.VacuumBot object at 0x7fd09c133358 cleaned __main__.Dirt object at 0x7fd09c187ac8 at location: [0, 0]\n"
          ],
          "name": "stdout"
        },
        {
          "output_type": "display_data",
          "data": {
            "text/html": [
              ""
            ],
            "text/plain": [
              "<IPython.core.display.HTML object>"
            ]
          },
          "metadata": {
            "tags": []
          }
        },
        {
          "output_type": "display_data",
          "data": {
            "text/html": [
              "<style type=\"text/css\">table.blockgrid {border: none;} .blockgrid tr {border: none;} .blockgrid td {padding: 0px;} #blocksbd67a842-a638-4218-885a-a33254db77a5 td {border: 1px solid white;}</style><table id=\"blocksbd67a842-a638-4218-885a-a33254db77a5\" class=\"blockgrid\"><tbody><tr><td title=\"Index: [0, 0]&#10;Color: (200, 0, 0)\" style=\"width: 20px; height: 20px;background-color: rgb(200, 0, 0);\"></td><td title=\"Index: [0, 1]&#10;Color: (133, 122, 111)\" style=\"width: 20px; height: 20px;background-color: rgb(133, 122, 111);\"></td><td title=\"Index: [0, 2]&#10;Color: (133, 122, 111)\" style=\"width: 20px; height: 20px;background-color: rgb(133, 122, 111);\"></td></tr><tr><td title=\"Index: [1, 0]&#10;Color: (200, 200, 200)\" style=\"width: 20px; height: 20px;background-color: rgb(200, 200, 200);\"></td><td title=\"Index: [1, 1]&#10;Color: (200, 200, 200)\" style=\"width: 20px; height: 20px;background-color: rgb(200, 200, 200);\"></td><td title=\"Index: [1, 2]&#10;Color: (133, 122, 111)\" style=\"width: 20px; height: 20px;background-color: rgb(133, 122, 111);\"></td></tr></tbody></table>"
            ],
            "text/plain": [
              "<IPython.core.display.HTML object>"
            ]
          },
          "metadata": {
            "tags": []
          }
        },
        {
          "output_type": "display_data",
          "data": {
            "text/html": [
              ""
            ],
            "text/plain": [
              "<IPython.core.display.HTML object>"
            ]
          },
          "metadata": {
            "tags": []
          }
        },
        {
          "output_type": "display_data",
          "data": {
            "text/html": [
              "<style type=\"text/css\">table.blockgrid {border: none;} .blockgrid tr {border: none;} .blockgrid td {padding: 0px;} #blocks9a7510fd-e43d-4e8d-ab66-44055dc8eae2 td {border: 1px solid white;}</style><table id=\"blocks9a7510fd-e43d-4e8d-ab66-44055dc8eae2\" class=\"blockgrid\"><tbody><tr><td title=\"Index: [0, 0]&#10;Color: (200, 200, 200)\" style=\"width: 20px; height: 20px;background-color: rgb(200, 200, 200);\"></td><td title=\"Index: [0, 1]&#10;Color: (133, 122, 111)\" style=\"width: 20px; height: 20px;background-color: rgb(133, 122, 111);\"></td><td title=\"Index: [0, 2]&#10;Color: (133, 122, 111)\" style=\"width: 20px; height: 20px;background-color: rgb(133, 122, 111);\"></td></tr><tr><td title=\"Index: [1, 0]&#10;Color: (200, 200, 200)\" style=\"width: 20px; height: 20px;background-color: rgb(200, 200, 200);\"></td><td title=\"Index: [1, 1]&#10;Color: (200, 200, 200)\" style=\"width: 20px; height: 20px;background-color: rgb(200, 200, 200);\"></td><td title=\"Index: [1, 2]&#10;Color: (133, 122, 111)\" style=\"width: 20px; height: 20px;background-color: rgb(133, 122, 111);\"></td></tr></tbody></table>"
            ],
            "text/plain": [
              "<IPython.core.display.HTML object>"
            ]
          },
          "metadata": {
            "tags": []
          }
        },
        {
          "output_type": "stream",
          "text": [
            "__main__.VacuumBot object at 0x7fd09c133358 cleaned __main__.Dirt object at 0x7fd09c187b00 at location: [1, 0]\n"
          ],
          "name": "stdout"
        },
        {
          "output_type": "display_data",
          "data": {
            "text/html": [
              ""
            ],
            "text/plain": [
              "<IPython.core.display.HTML object>"
            ]
          },
          "metadata": {
            "tags": []
          }
        },
        {
          "output_type": "display_data",
          "data": {
            "text/html": [
              "<style type=\"text/css\">table.blockgrid {border: none;} .blockgrid tr {border: none;} .blockgrid td {padding: 0px;} #blockscaf79323-5c13-4f17-9647-c5d142758a07 td {border: 1px solid white;}</style><table id=\"blockscaf79323-5c13-4f17-9647-c5d142758a07\" class=\"blockgrid\"><tbody><tr><td title=\"Index: [0, 0]&#10;Color: (200, 200, 200)\" style=\"width: 20px; height: 20px;background-color: rgb(200, 200, 200);\"></td><td title=\"Index: [0, 1]&#10;Color: (200, 0, 0)\" style=\"width: 20px; height: 20px;background-color: rgb(200, 0, 0);\"></td><td title=\"Index: [0, 2]&#10;Color: (133, 122, 111)\" style=\"width: 20px; height: 20px;background-color: rgb(133, 122, 111);\"></td></tr><tr><td title=\"Index: [1, 0]&#10;Color: (200, 200, 200)\" style=\"width: 20px; height: 20px;background-color: rgb(200, 200, 200);\"></td><td title=\"Index: [1, 1]&#10;Color: (200, 200, 200)\" style=\"width: 20px; height: 20px;background-color: rgb(200, 200, 200);\"></td><td title=\"Index: [1, 2]&#10;Color: (133, 122, 111)\" style=\"width: 20px; height: 20px;background-color: rgb(133, 122, 111);\"></td></tr></tbody></table>"
            ],
            "text/plain": [
              "<IPython.core.display.HTML object>"
            ]
          },
          "metadata": {
            "tags": []
          }
        },
        {
          "output_type": "display_data",
          "data": {
            "text/html": [
              ""
            ],
            "text/plain": [
              "<IPython.core.display.HTML object>"
            ]
          },
          "metadata": {
            "tags": []
          }
        },
        {
          "output_type": "display_data",
          "data": {
            "text/html": [
              "<style type=\"text/css\">table.blockgrid {border: none;} .blockgrid tr {border: none;} .blockgrid td {padding: 0px;} #blocks9dba74b0-3941-4aac-adc3-51ac235a74e5 td {border: 1px solid white;}</style><table id=\"blocks9dba74b0-3941-4aac-adc3-51ac235a74e5\" class=\"blockgrid\"><tbody><tr><td title=\"Index: [0, 0]&#10;Color: (200, 200, 200)\" style=\"width: 20px; height: 20px;background-color: rgb(200, 200, 200);\"></td><td title=\"Index: [0, 1]&#10;Color: (200, 200, 200)\" style=\"width: 20px; height: 20px;background-color: rgb(200, 200, 200);\"></td><td title=\"Index: [0, 2]&#10;Color: (133, 122, 111)\" style=\"width: 20px; height: 20px;background-color: rgb(133, 122, 111);\"></td></tr><tr><td title=\"Index: [1, 0]&#10;Color: (200, 200, 200)\" style=\"width: 20px; height: 20px;background-color: rgb(200, 200, 200);\"></td><td title=\"Index: [1, 1]&#10;Color: (200, 0, 0)\" style=\"width: 20px; height: 20px;background-color: rgb(200, 0, 0);\"></td><td title=\"Index: [1, 2]&#10;Color: (133, 122, 111)\" style=\"width: 20px; height: 20px;background-color: rgb(133, 122, 111);\"></td></tr></tbody></table>"
            ],
            "text/plain": [
              "<IPython.core.display.HTML object>"
            ]
          },
          "metadata": {
            "tags": []
          }
        },
        {
          "output_type": "display_data",
          "data": {
            "text/html": [
              ""
            ],
            "text/plain": [
              "<IPython.core.display.HTML object>"
            ]
          },
          "metadata": {
            "tags": []
          }
        },
        {
          "output_type": "display_data",
          "data": {
            "text/html": [
              "<style type=\"text/css\">table.blockgrid {border: none;} .blockgrid tr {border: none;} .blockgrid td {padding: 0px;} #blocksbaaadcc7-7341-4afc-9085-cd0657990e46 td {border: 1px solid white;}</style><table id=\"blocksbaaadcc7-7341-4afc-9085-cd0657990e46\" class=\"blockgrid\"><tbody><tr><td title=\"Index: [0, 0]&#10;Color: (200, 200, 200)\" style=\"width: 20px; height: 20px;background-color: rgb(200, 200, 200);\"></td><td title=\"Index: [0, 1]&#10;Color: (200, 200, 200)\" style=\"width: 20px; height: 20px;background-color: rgb(200, 200, 200);\"></td><td title=\"Index: [0, 2]&#10;Color: (133, 122, 111)\" style=\"width: 20px; height: 20px;background-color: rgb(133, 122, 111);\"></td></tr><tr><td title=\"Index: [1, 0]&#10;Color: (200, 0, 0)\" style=\"width: 20px; height: 20px;background-color: rgb(200, 0, 0);\"></td><td title=\"Index: [1, 1]&#10;Color: (200, 200, 200)\" style=\"width: 20px; height: 20px;background-color: rgb(200, 200, 200);\"></td><td title=\"Index: [1, 2]&#10;Color: (133, 122, 111)\" style=\"width: 20px; height: 20px;background-color: rgb(133, 122, 111);\"></td></tr></tbody></table>"
            ],
            "text/plain": [
              "<IPython.core.display.HTML object>"
            ]
          },
          "metadata": {
            "tags": []
          }
        },
        {
          "output_type": "display_data",
          "data": {
            "text/html": [
              ""
            ],
            "text/plain": [
              "<IPython.core.display.HTML object>"
            ]
          },
          "metadata": {
            "tags": []
          }
        },
        {
          "output_type": "display_data",
          "data": {
            "text/html": [
              "<style type=\"text/css\">table.blockgrid {border: none;} .blockgrid tr {border: none;} .blockgrid td {padding: 0px;} #blocks55626103-971f-4db0-b099-4d69b88682ce td {border: 1px solid white;}</style><table id=\"blocks55626103-971f-4db0-b099-4d69b88682ce\" class=\"blockgrid\"><tbody><tr><td title=\"Index: [0, 0]&#10;Color: (200, 0, 0)\" style=\"width: 20px; height: 20px;background-color: rgb(200, 0, 0);\"></td><td title=\"Index: [0, 1]&#10;Color: (200, 200, 200)\" style=\"width: 20px; height: 20px;background-color: rgb(200, 200, 200);\"></td><td title=\"Index: [0, 2]&#10;Color: (133, 122, 111)\" style=\"width: 20px; height: 20px;background-color: rgb(133, 122, 111);\"></td></tr><tr><td title=\"Index: [1, 0]&#10;Color: (200, 200, 200)\" style=\"width: 20px; height: 20px;background-color: rgb(200, 200, 200);\"></td><td title=\"Index: [1, 1]&#10;Color: (133, 122, 111)\" style=\"width: 20px; height: 20px;background-color: rgb(133, 122, 111);\"></td><td title=\"Index: [1, 2]&#10;Color: (133, 122, 111)\" style=\"width: 20px; height: 20px;background-color: rgb(133, 122, 111);\"></td></tr></tbody></table>"
            ],
            "text/plain": [
              "<IPython.core.display.HTML object>"
            ]
          },
          "metadata": {
            "tags": []
          }
        },
        {
          "output_type": "display_data",
          "data": {
            "text/html": [
              ""
            ],
            "text/plain": [
              "<IPython.core.display.HTML object>"
            ]
          },
          "metadata": {
            "tags": []
          }
        },
        {
          "output_type": "display_data",
          "data": {
            "text/html": [
              "<style type=\"text/css\">table.blockgrid {border: none;} .blockgrid tr {border: none;} .blockgrid td {padding: 0px;} #blocksbaae17c5-eb0c-4839-868c-2d52337ad083 td {border: 1px solid white;}</style><table id=\"blocksbaae17c5-eb0c-4839-868c-2d52337ad083\" class=\"blockgrid\"><tbody><tr><td title=\"Index: [0, 0]&#10;Color: (200, 200, 200)\" style=\"width: 20px; height: 20px;background-color: rgb(200, 200, 200);\"></td><td title=\"Index: [0, 1]&#10;Color: (200, 0, 0)\" style=\"width: 20px; height: 20px;background-color: rgb(200, 0, 0);\"></td><td title=\"Index: [0, 2]&#10;Color: (133, 122, 111)\" style=\"width: 20px; height: 20px;background-color: rgb(133, 122, 111);\"></td></tr><tr><td title=\"Index: [1, 0]&#10;Color: (200, 200, 200)\" style=\"width: 20px; height: 20px;background-color: rgb(200, 200, 200);\"></td><td title=\"Index: [1, 1]&#10;Color: (133, 122, 111)\" style=\"width: 20px; height: 20px;background-color: rgb(133, 122, 111);\"></td><td title=\"Index: [1, 2]&#10;Color: (133, 122, 111)\" style=\"width: 20px; height: 20px;background-color: rgb(133, 122, 111);\"></td></tr></tbody></table>"
            ],
            "text/plain": [
              "<IPython.core.display.HTML object>"
            ]
          },
          "metadata": {
            "tags": []
          }
        }
      ]
    },
    {
      "cell_type": "code",
      "metadata": {
        "id": "OjdJVBWWWN4v",
        "colab_type": "code",
        "outputId": "e59e16b5-b3bc-4b21-990b-6ead60e560d0",
        "colab": {
          "base_uri": "https://localhost:8080/",
          "height": 33
        }
      },
      "source": [
        "vacuumBot.performance, vacuumBot2.performance"
      ],
      "execution_count": 0,
      "outputs": [
        {
          "output_type": "execute_result",
          "data": {
            "text/plain": [
              "(12, -10)"
            ]
          },
          "metadata": {
            "tags": []
          },
          "execution_count": 414
        }
      ]
    },
    {
      "cell_type": "markdown",
      "metadata": {
        "id": "vyc-B-guXYK_",
        "colab_type": "text"
      },
      "source": [
        "## Para desarrollar"
      ]
    },
    {
      "cell_type": "markdown",
      "metadata": {
        "id": "ZVTdyoGdXb2L",
        "colab_type": "text"
      },
      "source": [
        "Crear un entorno `room` de 4x4 de con dos agentes que se muevan de manera reflexiva. Se busca que puedan operar de forma autónoma y garanticen que todas las casillas del room se lleguen a limpiar constantemente. Activar la generación aleatoria de `dirt` en el entorno y modificarlo para que cada casilla tenga una probabilidad del 2% de ensuciarse.\n",
        "\n"
      ]
    },
    {
      "cell_type": "code",
      "metadata": {
        "id": "j68wuY4QXtDH",
        "colab_type": "code",
        "colab": {}
      },
      "source": [
        ""
      ],
      "execution_count": 0,
      "outputs": []
    }
  ]
}